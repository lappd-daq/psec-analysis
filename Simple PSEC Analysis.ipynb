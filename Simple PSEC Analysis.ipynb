{
 "cells": [
  {
   "cell_type": "markdown",
   "metadata": {},
   "source": []
  },
  {
   "cell_type": "code",
   "execution_count": 1,
   "metadata": {
    "collapsed": true
   },
   "outputs": [],
   "source": [
    "%matplotlib inline\n",
    "import matplotlib.pyplot as plt\n",
    "import numpy as np\n",
    "import pandas as pd\n",
    "import os\n",
    "from scipy import signal\n",
    "\n",
    "plt.style.use('seaborn')"
   ]
  },
  {
   "cell_type": "code",
   "execution_count": 13,
   "metadata": {
    "collapsed": false
   },
   "outputs": [],
   "source": [
    "def load_data(filename, name):\n",
    "    try:\n",
    "        data = pd.read_csv(filename, header=None, sep='\\s+')\n",
    "    except FileNotFoundError:\n",
    "        print('No file found with that name')\n",
    "\n",
    "    data.columns = ['Index', 'ASIC Index', 'C1', 'C2', 'C3', 'C4', 'C5', 'C6', 'C7', 'C8', 'C9', 'C10',\n",
    "                   'C11', 'C12', 'C13', 'C14', 'C15', 'C16', 'C17', 'C18', 'C19', 'C20', 'C21', 'C22',\n",
    "                   'C23', 'C24', 'C25', 'C26', 'C27', 'C28', 'C29', 'C30', 'Meta']\n",
    "    data.name = name\n",
    "    # The first 256 rows are the pedestal data\n",
    "    ped = data[:256]\n",
    "    return (data, ped)"
   ]
  },
  {
   "cell_type": "code",
   "execution_count": 33,
   "metadata": {
    "collapsed": false
   },
   "outputs": [],
   "source": [
    "def discriminate_events(data, channel, num_events, start=256, width=256, save=False):\n",
    "    chan = pd.DataFrame(index=range(256))\n",
    "    for i in range(num_events):\n",
    "        chan.append(data['C{}'.format(channel)].loc[\n",
    "            i * width + start:(i + 1) * width - 1 + start\n",
    "        ], ignore_index=True)\n",
    "\n",
    "    if save:\n",
    "        directory = 'event_data'\n",
    "        if not os.path.exists(directory):\n",
    "            os.makedirs(directory)\n",
    "        chan.to_csv('{}/{}.csv'.format(directory,channel.name))\n",
    "    \n",
    "    chan.name = data.name\n",
    "    return chan"
   ]
  },
  {
   "cell_type": "code",
   "execution_count": 23,
   "metadata": {
    "collapsed": false
   },
   "outputs": [],
   "source": [
    "def plot_event(channel, ped, event=0):\n",
    "    fig = plt.figure()\n",
    "    plt.plot(channel[event]-ped['C2'])\n",
    "    plt.xlabel('Time (100 ps)')\n",
    "    plt.ylabel('ADC Counts')\n",
    "    plt.title('Event: '+ str(event))"
   ]
  },
  {
   "cell_type": "code",
   "execution_count": 16,
   "metadata": {
    "collapsed": true
   },
   "outputs": [],
   "source": [
    "def plot_all_events(channel, ped):\n",
    "    directory = 'figs/'+channel.name\n",
    "    if not os.path.exists(directory):\n",
    "        os.makedirs(directory)\n",
    "    for event in channel:\n",
    "        fig = plt.figure()\n",
    "        plt.plot(channel[event]-ped['C2'])\n",
    "        plt.xlabel('Time Axis')\n",
    "        plt.ylabel('ADC Counts')\n",
    "        plt.title('Event: '+ str(event))\n",
    "        plt.savefig('{}/event_{}'.format(directory, str(event)))\n",
    "        plt.close()"
   ]
  },
  {
   "cell_type": "code",
   "execution_count": 17,
   "metadata": {
    "collapsed": true
   },
   "outputs": [],
   "source": [
    "def shift_plot(channel, idx, shift=0, event=0):\n",
    "    y = channel[event]\n",
    "    t = (idx - shift) % 256\n",
    "    sped = ped['C2'].copy()\n",
    "    sped.index = (ped['Index'].copy() - shift) % 256\n",
    "    plt.plot(t, (y-sped))"
   ]
  },
  {
   "cell_type": "code",
   "execution_count": 27,
   "metadata": {
    "collapsed": false
   },
   "outputs": [],
   "source": [
    "data, ped = load_data('data/test2.acdc.dat', 'test2')"
   ]
  },
  {
   "cell_type": "code",
   "execution_count": 34,
   "metadata": {
    "collapsed": false
   },
   "outputs": [
    {
     "name": "stdout",
     "output_type": "stream",
     "text": [
      "Empty DataFrame\n",
      "Columns: []\n",
      "Index: [0, 1, 2, 3, 4, 5, 6, 7, 8, 9, 10, 11, 12, 13, 14, 15, 16, 17, 18, 19, 20, 21, 22, 23, 24, 25, 26, 27, 28, 29, 30, 31, 32, 33, 34, 35, 36, 37, 38, 39, 40, 41, 42, 43, 44, 45, 46, 47, 48, 49, 50, 51, 52, 53, 54, 55, 56, 57, 58, 59, 60, 61, 62, 63, 64, 65, 66, 67, 68, 69, 70, 71, 72, 73, 74, 75, 76, 77, 78, 79, 80, 81, 82, 83, 84, 85, 86, 87, 88, 89, 90, 91, 92, 93, 94, 95, 96, 97, 98, 99, ...]\n",
      "\n",
      "[256 rows x 0 columns]\n"
     ]
    }
   ],
   "source": [
    "# idx = discriminate_events(data, 'Index', 50)\n",
    "ch2 = discriminate_events(data, 2, 50)\n",
    "print(ch2)\n",
    "# ch2.name='test2'\n",
    "# plot_event(ch2, ped, 3)"
   ]
  },
  {
   "cell_type": "code",
   "execution_count": 35,
   "metadata": {
    "collapsed": true
   },
   "outputs": [
    {
     "ename": "NameError",
     "evalue": "name 'filename' is not defined",
     "output_type": "error",
     "traceback": [
      "\u001b[0;31m---------------------------------------------------------------------------\u001b[0m",
      "\u001b[0;31mNameError\u001b[0m                                 Traceback (most recent call last)",
      "\u001b[0;32m<ipython-input-35-bb0eb351c93a>\u001b[0m in \u001b[0;36m<module>\u001b[0;34m()\u001b[0m\n\u001b[1;32m      3\u001b[0m                'C23', 'C24', 'C25', 'C26', 'C27', 'C28', 'C29', 'C30', 'Meta']\n\u001b[1;32m      4\u001b[0m \u001b[1;33m\u001b[0m\u001b[0m\n\u001b[0;32m----> 5\u001b[0;31m \u001b[0mdata\u001b[0m \u001b[1;33m=\u001b[0m \u001b[0mpd\u001b[0m\u001b[1;33m.\u001b[0m\u001b[0mread_csv\u001b[0m\u001b[1;33m(\u001b[0m\u001b[0mfilename\u001b[0m\u001b[1;33m,\u001b[0m \u001b[0mheader\u001b[0m\u001b[1;33m=\u001b[0m\u001b[1;32mNone\u001b[0m\u001b[1;33m,\u001b[0m \u001b[0msep\u001b[0m\u001b[1;33m=\u001b[0m\u001b[1;34m'\\s+'\u001b[0m\u001b[1;33m,\u001b[0m \u001b[0mnames\u001b[0m\u001b[1;33m=\u001b[0m\u001b[0mcols\u001b[0m\u001b[1;33m)\u001b[0m\u001b[1;33m\u001b[0m\u001b[0m\n\u001b[0m\u001b[1;32m      6\u001b[0m \u001b[1;33m\u001b[0m\u001b[0m\n\u001b[1;32m      7\u001b[0m \u001b[1;33m\u001b[0m\u001b[0m\n",
      "\u001b[0;31mNameError\u001b[0m: name 'filename' is not defined"
     ]
    }
   ],
   "source": [
    "cols = ['Index', 'ASIC Index', 'C1', 'C2', 'C3', 'C4', 'C5', 'C6', 'C7', 'C8', 'C9', 'C10',\n",
    "               'C11', 'C12', 'C13', 'C14', 'C15', 'C16', 'C17', 'C18', 'C19', 'C20', 'C21', 'C22',\n",
    "               'C23', 'C24', 'C25', 'C26', 'C27', 'C28', 'C29', 'C30', 'Meta']\n",
    "\n",
    "data = pd.read_csv(filename, header=None, sep='\\s+', names=cols)\n",
    "\n",
    "\n",
    "data.name = name\n",
    "# The first 256 rows are the pedestal data\n",
    "ped = data[:256]\n",
    "return (data, ped)"
   ]
  },
  {
   "cell_type": "code",
   "execution_count": 167,
   "metadata": {
    "collapsed": false
   },
   "outputs": [],
   "source": [
    "def load_data(filename, num_events):\n",
    "    data = np.genfromtxt(filename)\n",
    "    ped = data[:256].T\n",
    "    width = 256\n",
    "    \n",
    "    channel_data = [[\n",
    "            data[width * (i + 1):(i + 2) * width, ch]\n",
    "         for i in range(num_events) \n",
    "        ]for ch in range(33)]\n",
    "        \n",
    "    return (np.asarray(channel_data), ped)\n",
    "\n",
    "def plot_event(data,ch, ped, events=[0], path=None):\n",
    "    [plt.plot(data[ch+1, event] - ped[ch+1], label='Evt:{}'.format(event))\n",
    "     for event in events]\n",
    "    plt.legend()\n",
    "    plt.title('Channel:Event | {}:{}'.format(ch, events))\n",
    "    plt.xlabel('Time (100 ps)')\n",
    "    plt.ylabel('ADC Counts')\n",
    "\n",
    "    if path:\n",
    "        directory = 'figs/{}'.format(path)\n",
    "        if not os.path.exists(directory):\n",
    "            os.makedirs(directory)\n",
    "        plt.savefig('{}/ch{}-{}'.format(directory, ch, events))"
   ]
  },
  {
   "cell_type": "code",
   "execution_count": 168,
   "metadata": {
    "collapsed": false
   },
   "outputs": [
    {
     "data": {
      "image/png": "[encoded data removed]",
      "text/plain": [
       "<matplotlib.figure.Figure at 0x239bcfd1278>"
      ]
     },
     "metadata": {},
     "output_type": "display_data"
    }
   ],
   "source": [
    "data, ped = load_data('data/test2.acdc.dat', 50)\n",
    "plot_event(data, 2, ped, path='test')"
   ]
  },
  {
   "cell_type": "code",
   "execution_count": 62,
   "metadata": {
    "collapsed": false
   },
   "outputs": [
    {
     "data": {
      "text/plain": [
       "array([    0.,     0.,  2805.,  2805.,  2752.,  2693.,  2762.,  2707.,\n",
       "        2688.,  2614.,  2717.,  2682.,  2721.,  2636.,  2881.,  2802.,\n",
       "        2863.,  2824.,  2866.,  2761.,  2749.,  2748.,  2618.,  2722.,\n",
       "        2843.,  2716.,  2755.,  2756.,  2678.,  2551.,  2732.,  2647.,\n",
       "           0.])"
      ]
     },
     "execution_count": 62,
     "metadata": {},
     "output_type": "execute_result"
    }
   ],
   "source": [
    "data[0]"
   ]
  },
  {
   "cell_type": "code",
   "execution_count": null,
   "metadata": {
    "collapsed": true
   },
   "outputs": [],
   "source": []
  }
 ],
 "metadata": {
  "kernelspec": {
   "display_name": "Python 3",
   "language": "python",
   "name": "python3"
  },
  "language_info": {
   "codemirror_mode": {
    "name": "ipython",
    "version": 3
   },
   "file_extension": ".py",
   "mimetype": "text/x-python",
   "name": "python",
   "nbconvert_exporter": "python",
   "pygments_lexer": "ipython3",
   "version": "3.6.0"
  }
 },
 "nbformat": 4,
 "nbformat_minor": 2
}
